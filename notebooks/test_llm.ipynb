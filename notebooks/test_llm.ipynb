{
 "cells": [
  {
   "cell_type": "code",
   "execution_count": null,
   "id": "17ad34bf-0bef-4508-80b5-282544ffc179",
   "metadata": {},
   "outputs": [],
   "source": [
    "import sys\n",
    "import apex\n",
    "import os\n"
   ]
  },
  {
   "cell_type": "code",
   "execution_count": null,
   "id": "2e2b1f6a-5075-45ac-b724-dedcd36f222d",
   "metadata": {},
   "outputs": [],
   "source": [
    "response = completion(model=\"gpt-3.5-turbo\", messages=[{\"content\": \"Hello!\", \"role\": \"user\"}])"
   ]
  }
 ],
 "metadata": {
  "kernelspec": {
   "display_name": "Python 3 (ipykernel)",
   "language": "python",
   "name": "python3"
  },
  "language_info": {
   "codemirror_mode": {
    "name": "ipython",
    "version": 3
   },
   "file_extension": ".py",
   "mimetype": "text/x-python",
   "name": "python",
   "nbconvert_exporter": "python",
   "pygments_lexer": "ipython3",
   "version": "3.10.12"
  }
 },
 "nbformat": 4,
 "nbformat_minor": 5
}
